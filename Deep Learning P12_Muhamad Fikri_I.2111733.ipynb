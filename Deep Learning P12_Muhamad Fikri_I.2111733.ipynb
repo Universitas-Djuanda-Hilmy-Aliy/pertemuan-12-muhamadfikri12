{
 "cells": [
  {
   "cell_type": "markdown",
   "id": "46fe7415",
   "metadata": {},
   "source": [
    "## Pre-Trained Model"
   ]
  },
  {
   "cell_type": "markdown",
   "id": "f1256071",
   "metadata": {},
   "source": [
    "Menggunakan model yang sudah dilatih"
   ]
  },
  {
   "cell_type": "markdown",
   "id": "2d94797e",
   "metadata": {},
   "source": [
    "import matplotlib.pyplot as plt\n",
    "from tensorflow.keras.datasets import fashion_mnist\n",
    "\n",
    "(train_images1,train_labels1),(test_images1,test_labels1) = fashion_mnist.load_data()"
   ]
  },
  {
   "cell_type": "code",
   "execution_count": 2,
   "id": "cfac69d5",
   "metadata": {},
   "outputs": [],
   "source": [
    "train_images1 = train_images1.reshape((60000,28*28))\n",
    "train_images1 = train_images1.astype(\"float32\")/255\n",
    "\n",
    "test_images1 = test_images1.reshape((10000,28*28))\n",
    "test_images1 = test_images1.astype(\"float32\")/255"
   ]
  },
  {
   "cell_type": "code",
   "execution_count": 3,
   "id": "ceba61ae",
   "metadata": {},
   "outputs": [],
   "source": [
    "from tensorflow.keras.models import load_model"
   ]
  },
  {
   "cell_type": "code",
   "execution_count": 4,
   "id": "1df1e238",
   "metadata": {},
   "outputs": [],
   "source": [
    "pretrained_model = load_model('model_fikri.h5')"
   ]
  },
  {
   "cell_type": "code",
   "execution_count": 5,
   "id": "f791e0f8",
   "metadata": {},
   "outputs": [],
   "source": [
    "import numpy as np"
   ]
  },
  {
   "cell_type": "code",
   "execution_count": 6,
   "id": "02ae1944",
   "metadata": {},
   "outputs": [
    {
     "name": "stdout",
     "output_type": "stream",
     "text": [
      "akurasi hasil data test :0.87\n"
     ]
    }
   ],
   "source": [
    "prediksi = pretrained_model(test_images1)\n",
    "prediksi = prediksi.numpy() #supaya hasilnya array\n",
    "prediksi_label = np.argmax(prediksi,axis=1)\n",
    "prediksi_betul = prediksi_label == test_labels1\n",
    "print(f\"akurasi hasil data test :{prediksi_betul.mean():.2f}\")"
   ]
  },
  {
   "cell_type": "markdown",
   "id": "5771de13",
   "metadata": {},
   "source": [
    "## Underfitting"
   ]
  },
  {
   "cell_type": "markdown",
   "id": "48942e15",
   "metadata": {},
   "source": [
    "Definisi: Situasi dimana model tidak dapat menangkap pola yang cukup dalam proses training <br>\n",
    "\n",
    "Penyebabnya :\n",
    "1. Modelnya terlalu sederhana\n",
    "2. Data training terbatas\n",
    "3. Proses Training tidak cukup\n",
    "4. Parameter training tidak sesuai"
   ]
  },
  {
   "cell_type": "markdown",
   "id": "6aec3234",
   "metadata": {},
   "source": [
    "Cara mengatasinya :\n",
    "1. Meningkatkan kompleksitas model\n",
    "2. Datanya lebih banyak dan representatif\n",
    "3. Menyesuaikan parameter"
   ]
  },
  {
   "cell_type": "code",
   "execution_count": 7,
   "id": "0b2c4aa1",
   "metadata": {},
   "outputs": [],
   "source": [
    "#Arsitektur Modelnya\n",
    "import tensorflow as tf\n",
    "import numpy as np\n",
    "\n",
    "model_fikri = tf.keras.Sequential([\n",
    "    tf.keras.layers.Dense(10, activation='relu'),\n",
    "])"
   ]
  },
  {
   "cell_type": "code",
   "execution_count": 8,
   "id": "83a98a87",
   "metadata": {},
   "outputs": [],
   "source": [
    "model_fikri.compile(optimizer='rmsprop', loss='sparse_categorical_crossentropy', metrics=['accuracy'])"
   ]
  },
  {
   "cell_type": "code",
   "execution_count": 9,
   "id": "b1479765",
   "metadata": {},
   "outputs": [
    {
     "name": "stdout",
     "output_type": "stream",
     "text": [
      "Epoch 1/2\n",
      "477/477 [==============================] - 3s 5ms/step - loss: 2.3536 - accuracy: 0.1048\n",
      "Epoch 2/2\n",
      "477/477 [==============================] - 2s 5ms/step - loss: 2.2912 - accuracy: 0.1051\n"
     ]
    },
    {
     "data": {
      "text/plain": [
       "<keras.src.callbacks.History at 0x1efa13d8ed0>"
      ]
     },
     "execution_count": 9,
     "metadata": {},
     "output_type": "execute_result"
    }
   ],
   "source": [
    "model_fikri.fit(train_images1,train_labels1, epochs=2, batch_size=126)"
   ]
  },
  {
   "cell_type": "markdown",
   "id": "66f4a8b5",
   "metadata": {},
   "source": [
    "## Learning Rate"
   ]
  },
  {
   "cell_type": "markdown",
   "id": "796c3f37",
   "metadata": {},
   "source": [
    "Merupakan parameter penting dalam proses training. Learning rate merupakan nilai yang menentukan seberapa besar penyesuaian yang dilakukan pada bobot (weight) model pada setiap proses training."
   ]
  },
  {
   "cell_type": "markdown",
   "id": "21aa0007",
   "metadata": {},
   "source": [
    "Learning rate mengontrol seberapa cepat atau lambat model untuk belajar. Jika nilai learning rate tinggi, dapat menyebabkan model cepat belajar, tapi berisiko melewatkan kesalahan.<br>\n",
    "Jika learning ratenya rendah, maka model akan belajar lebih hati-hati, tetapi proses pembelajaran menjadi lebih lambat."
   ]
  },
  {
   "cell_type": "code",
   "execution_count": 16,
   "id": "95e7a240",
   "metadata": {},
   "outputs": [],
   "source": [
    "#Arsitektur Modelnya\n",
    "import tensorflow as tf\n",
    "import numpy as np\n",
    "\n",
    "model_fikri = tf.keras.Sequential([\n",
    "    tf.keras.layers.Dense(512, activation='relu'),\n",
    "    tf.keras.layers.Dropout(0.5),\n",
    "    tf.keras.layers.Dense(256, activation='relu'),\n",
    "    tf.keras.layers.Dropout(0.5),\n",
    "    tf.keras.layers.Dense(128, activation='relu'),\n",
    "    tf.keras.layers.Dense(64, activation='relu'),\n",
    "    tf.keras.layers.Dense(32, activation='relu'),\n",
    "    tf.keras.layers.Dense(10, activation='sigmoid')\n",
    "])"
   ]
  },
  {
   "cell_type": "code",
   "execution_count": 17,
   "id": "c4e7bd2e",
   "metadata": {},
   "outputs": [],
   "source": [
    "learning_rate1 = 0.001"
   ]
  },
  {
   "cell_type": "code",
   "execution_count": 18,
   "id": "1393f9bb",
   "metadata": {},
   "outputs": [],
   "source": [
    "model_fikri.compile(optimizer=tf.keras.optimizers.RMSprop(learning_rate = learning_rate1) , loss='sparse_categorical_crossentropy', metrics=['accuracy'])"
   ]
  },
  {
   "cell_type": "code",
   "execution_count": 19,
   "id": "517b4b86",
   "metadata": {},
   "outputs": [
    {
     "name": "stdout",
     "output_type": "stream",
     "text": [
      "Epoch 1/10\n",
      "235/235 [==============================] - 9s 31ms/step - loss: 0.8094 - accuracy: 0.6957\n",
      "Epoch 2/10\n",
      "235/235 [==============================] - 7s 30ms/step - loss: 0.5098 - accuracy: 0.8130\n",
      "Epoch 3/10\n",
      "235/235 [==============================] - 7s 32ms/step - loss: 0.4583 - accuracy: 0.8337\n",
      "Epoch 4/10\n",
      "235/235 [==============================] - 7s 30ms/step - loss: 0.4273 - accuracy: 0.8438\n",
      "Epoch 5/10\n",
      "235/235 [==============================] - 8s 33ms/step - loss: 0.4078 - accuracy: 0.8509\n",
      "Epoch 6/10\n",
      "235/235 [==============================] - 7s 30ms/step - loss: 0.3900 - accuracy: 0.8587\n",
      "Epoch 7/10\n",
      "235/235 [==============================] - 7s 30ms/step - loss: 0.3790 - accuracy: 0.8638\n",
      "Epoch 8/10\n",
      "235/235 [==============================] - 8s 34ms/step - loss: 0.3687 - accuracy: 0.8663\n",
      "Epoch 9/10\n",
      "235/235 [==============================] - 7s 31ms/step - loss: 0.3602 - accuracy: 0.8703\n",
      "Epoch 10/10\n",
      "235/235 [==============================] - 9s 37ms/step - loss: 0.3541 - accuracy: 0.8716\n"
     ]
    },
    {
     "data": {
      "text/plain": [
       "<keras.src.callbacks.History at 0x1efa24a0ed0>"
      ]
     },
     "execution_count": 19,
     "metadata": {},
     "output_type": "execute_result"
    }
   ],
   "source": [
    "model_fikri.fit(train_images1,train_labels1, epochs=10, batch_size=256)"
   ]
  },
  {
   "cell_type": "code",
   "execution_count": null,
   "id": "68a07fff",
   "metadata": {},
   "outputs": [],
   "source": []
  }
 ],
 "metadata": {
  "kernelspec": {
   "display_name": "Python 3 (ipykernel)",
   "language": "python",
   "name": "python3"
  },
  "language_info": {
   "codemirror_mode": {
    "name": "ipython",
    "version": 3
   },
   "file_extension": ".py",
   "mimetype": "text/x-python",
   "name": "python",
   "nbconvert_exporter": "python",
   "pygments_lexer": "ipython3",
   "version": "3.11.4"
  }
 },
 "nbformat": 4,
 "nbformat_minor": 5
}
